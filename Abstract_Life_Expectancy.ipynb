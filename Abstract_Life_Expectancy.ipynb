{
 "cells": [
  {
   "cell_type": "code",
   "execution_count": 12,
   "metadata": {},
   "outputs": [],
   "source": [
    "import pandas as pd\n",
    "import numpy as np\n",
    "import matplotlib.pyplot as plt\n",
    "\n",
    "from sklearn.linear_model import LogisticRegression\n",
    "from sklearn.svm import SVC\n",
    "from sklearn.model_selection import train_test_split, cross_val_score, GridSearchCV, RandomizedSearchCV, StratifiedKFold\n",
    "from sklearn.preprocessing import OneHotEncoder, StandardScaler\n",
    "from sklearn.ensemble import RandomForestClassifier\n",
    "from sklearn.metrics import classification_report, confusion_matrix, ConfusionMatrixDisplay, accuracy_score, roc_auc_score\n",
    "\n",
    "import tensorflow as tf\n",
    "from tensorflow.keras.models import Sequential\n",
    "from tensorflow.keras.layers import Dense, Dropout, BatchNormalization\n",
    "from tensorflow.keras.optimizers import Adam\n",
    "from tensorflow.keras.losses import BinaryCrossentropy\n",
    "from tensorflow.keras.callbacks import EarlyStopping, ReduceLROnPlateau\n",
    "import keras_tuner as kt\n",
    "\n",
    "import xgboost as xgb\n",
    "\n",
    "from scipy.stats import randint\n",
    "\n",
    "import seaborn as sns"
   ]
  },
  {
   "cell_type": "markdown",
   "metadata": {},
   "source": [
    "<h1>Data Cleaning and Preprocessing</h1>"
   ]
  },
  {
   "cell_type": "code",
   "execution_count": 2,
   "metadata": {},
   "outputs": [],
   "source": [
    "# Load dataset\n",
    "dataset = pd.read_csv('Survival_Data.csv')"
   ]
  },
  {
   "cell_type": "code",
   "execution_count": 3,
   "metadata": {},
   "outputs": [],
   "source": [
    "#Drop undesired features\n",
    "dataset = dataset.drop(['studyid', 'site', 'strength_comfort_religion', 'petition_prayer_health', 'intercessory_prayers_health'], axis = 1)"
   ]
  },
  {
   "cell_type": "code",
   "execution_count": 4,
   "metadata": {},
   "outputs": [],
   "source": [
    "# Separate the dataset into numerical and categorical features\n",
    "numerical_features = dataset.select_dtypes(include=['int64', 'float64']).columns.tolist()\n",
    "categorical_features = dataset.select_dtypes(exclude=['int64', 'float64']).columns.tolist()"
   ]
  },
  {
   "cell_type": "code",
   "execution_count": 5,
   "metadata": {},
   "outputs": [],
   "source": [
    "# Use median imputation on the numerical features for missing values\n",
    "dataset[numerical_features] = dataset[numerical_features].fillna(dataset[numerical_features].median())\n",
    "\n",
    "# Use mode imputation on the categorical features for missing values\n",
    "for col in categorical_features:\n",
    "    dataset[col] = dataset[col].fillna(dataset[col].mode().iloc[0])"
   ]
  },
  {
   "cell_type": "code",
   "execution_count": null,
   "metadata": {},
   "outputs": [],
   "source": [
    "# Convert binary categorical variables ('Yes'/'No') into 1/0\n",
    "binary_columns = [col for col in categorical_features if dataset[col].nunique() == 2]\n",
    "for col in binary_columns:\n",
    "    unique_values = dataset[col].unique()\n",
    "    if set(unique_values) == {'Yes', 'No'}:\n",
    "        dataset[col] = dataset[col].replace({'Yes': 1, 'No': 0})\n",
    "    elif set(unique_values) == {'Not impaired', 'Impaired'}:\n",
    "        dataset[col] = dataset[col].replace({'Impaired': 1, 'Not impaired': 0})\n",
    "    else:\n",
    "        mapping = {unique_values[0]: 1, unique_values[1]: 0}\n",
    "        dataset[col] = dataset[col].map(mapping)\n",
    "\n",
    "\n",
    "# Remaining categorical variables (multi-category)\n",
    "multi_category_columns = [col for col in categorical_features if col not in binary_columns]"
   ]
  },
  {
   "cell_type": "code",
   "execution_count": 7,
   "metadata": {},
   "outputs": [],
   "source": [
    "# One-hot encode categorical variables\n",
    "encoder = OneHotEncoder(drop='first', sparse_output=False)\n",
    "encoded_categorical = encoder.fit_transform(dataset[multi_category_columns])\n",
    "encoded_categorical_df = pd.DataFrame(encoded_categorical, columns=encoder.get_feature_names_out(multi_category_columns))"
   ]
  },
  {
   "cell_type": "code",
   "execution_count": 8,
   "metadata": {},
   "outputs": [],
   "source": [
    "# Drop original categorical columns and merge encoded ones\n",
    "dataset = dataset.drop(multi_category_columns, axis=1)\n",
    "dataset = pd.concat([dataset, encoded_categorical_df], axis=1)\n",
    "\n",
    "# Fix special column (< causes issues)\n",
    "dataset = dataset.rename(columns={\n",
    "    'agecat_>=55-<65': 'agecat_55_to_65',\n",
    "    'agecat_>=65': 'agecat_65_plus'\n",
    "})"
   ]
  },
  {
   "cell_type": "code",
   "execution_count": 9,
   "metadata": {},
   "outputs": [],
   "source": [
    "# Separate features and target\n",
    "X = dataset.drop('died_2_year', axis=1)\n",
    "y = dataset['died_2_year']"
   ]
  },
  {
   "cell_type": "code",
   "execution_count": 10,
   "metadata": {},
   "outputs": [],
   "source": [
    "# Scale numerical features\n",
    "scaler = StandardScaler()\n",
    "X[numerical_features] = scaler.fit_transform(X[numerical_features])"
   ]
  },
  {
   "cell_type": "markdown",
   "metadata": {},
   "source": [
    "<h1>Basic Training Model Architecture</h1>"
   ]
  },
  {
   "cell_type": "code",
   "execution_count": 17,
   "metadata": {},
   "outputs": [],
   "source": [
    "class ModelTrainer:\n",
    "    def __init__(self, test_size=0.1, val_size=0.1):\n",
    "        self.test_size = test_size\n",
    "        self.val_size = val_size\n",
    "        \n",
    "        self.X_train, self.X_val, self.X_test, self.y_train, self.y_val, self.y_test = self.split()\n",
    "        self.models = {}\n",
    "\n",
    "    def split(self):\n",
    "        X_train, X_rest, y_train, y_rest = train_test_split(X, y, test_size=(self.test_size + self.val_size), stratify=y, random_state=42)\n",
    "        X_val, X_test, y_val, y_test = train_test_split(X_rest, y_rest, test_size=0.5, stratify=y_rest, random_state=42)\n",
    "        return X_train, X_val, X_test, y_train, y_val, y_test\n",
    "    \n",
    "    def train_model(self, model_name, model, param_grid=None, search_type='grid', cv_folds=5):\n",
    "        \"\"\"Train a model with optional hyperparameter tuning.\"\"\"\n",
    "        if param_grid:\n",
    "            search_cv = GridSearchCV if search_type == 'grid' else RandomizedSearchCV\n",
    "            model = search_cv(model, param_grid, cv=StratifiedKFold(n_splits=cv_folds), scoring='accuracy', n_jobs=-1, verbose=1)\n",
    "            model.fit(self.X_train, self.y_train)\n",
    "            model = model.best_estimator_\n",
    "            best_params = {k: v for k, v in model.get_params().items() if v is not None}\n",
    "            print(f\"Best Parameters for {model_name}: {best_params}\")\n",
    "        else:\n",
    "            model.fit(self.X_train, self.y_train)\n",
    "        \n",
    "        self.models[model_name] = model\n",
    "        self.evaluate_model(model_name)\n",
    "    \n",
    "    def evaluate_model(self, model_name):\n",
    "        \"\"\"Evaluate the model using accuracy and confusion matrix.\"\"\"\n",
    "        model = self.models[model_name]\n",
    "        y_train_pred = model.predict(self.X_train)\n",
    "        y_val_pred = model.predict(self.X_val)\n",
    "        y_test_pred = model.predict(self.X_test)\n",
    "\n",
    "        train_acc = accuracy_score(self.y_train, y_train_pred)\n",
    "        val_acc = accuracy_score(self.y_val, y_val_pred)\n",
    "        test_acc = accuracy_score(self.y_test, y_test_pred)\n",
    "\n",
    "        print(f\"\\n=== {model_name} Performance ===\")\n",
    "        print(f\"Train Accuracy: {train_acc:.4f}\")\n",
    "        print(f\"Validation Accuracy: {val_acc:.4f}\")\n",
    "        print(f\"Test Accuracy: {test_acc:.4f}\")\n",
    "        print(\"\\nClassification Report:\\n\", classification_report(self.y_test, y_test_pred))\n",
    "\n",
    "        self.plot_confusion_matrix(self.y_test, y_test_pred, model_name)\n",
    "    \n",
    "    def plot_confusion_matrix(self, y_true, y_pred, title):\n",
    "        \"\"\"Plot confusion matrix.\"\"\"\n",
    "        cm = confusion_matrix(y_true, y_pred)\n",
    "        plt.figure(figsize=(6, 5))\n",
    "        sns.heatmap(cm, annot=True, fmt='d', cmap='Blues', xticklabels=['Survived', 'Died'], yticklabels=['Survived', 'Died'])\n",
    "        plt.xlabel('Predicted')\n",
    "        plt.ylabel('Actual')\n",
    "        plt.title(f'Confusion Matrix: {title}')\n",
    "        plt.show()"
   ]
  },
  {
   "cell_type": "markdown",
   "metadata": {},
   "source": [
    "<h1>Model Comparisons</h1>"
   ]
  },
  {
   "cell_type": "code",
   "execution_count": 18,
   "metadata": {},
   "outputs": [],
   "source": [
    "trainer = ModelTrainer()"
   ]
  },
  {
   "cell_type": "code",
   "execution_count": 22,
   "metadata": {},
   "outputs": [
    {
     "name": "stdout",
     "output_type": "stream",
     "text": [
      "Fitting 5 folds for each of 10 candidates, totalling 50 fits\n",
      "Best Parameters for Random Forest: {'bootstrap': True, 'ccp_alpha': 0.0, 'criterion': 'gini', 'max_depth': 6, 'max_features': 'sqrt', 'min_impurity_decrease': 0.0, 'min_samples_leaf': 5, 'min_samples_split': 11, 'min_weight_fraction_leaf': 0.0, 'n_estimators': 99, 'oob_score': False, 'random_state': 42, 'verbose': 0, 'warm_start': False}\n",
      "\n",
      "=== Random Forest Performance ===\n",
      "Train Accuracy: 0.9649\n",
      "Validation Accuracy: 0.9372\n",
      "Test Accuracy: 0.9517\n",
      "\n",
      "Classification Report:\n",
      "               precision    recall  f1-score   support\n",
      "\n",
      "           0       0.95      1.00      0.97       195\n",
      "           1       1.00      0.17      0.29        12\n",
      "\n",
      "    accuracy                           0.95       207\n",
      "   macro avg       0.98      0.58      0.63       207\n",
      "weighted avg       0.95      0.95      0.94       207\n",
      "\n"
     ]
    },
    {
     "data": {
      "image/png": "[encoded data removed]",
      "text/plain": [
       "<Figure size 600x500 with 2 Axes>"
      ]
     },
     "metadata": {},
     "output_type": "display_data"
    }
   ],
   "source": [
    "# RandomForest Classfier\n",
    "rf_params = {\n",
    "    'n_estimators': randint(50, 100),\n",
    "    'max_depth': randint(3, 7),\n",
    "    'min_samples_leaf': randint(5, 20),\n",
    "    'min_samples_split': randint(5, 20),\n",
    "}\n",
    "trainer.train_model(\"Random Forest\", RandomForestClassifier(random_state=42), param_grid=rf_params, search_type='random')"
   ]
  },
  {
   "cell_type": "code",
   "execution_count": 21,
   "metadata": {},
   "outputs": [
    {
     "name": "stdout",
     "output_type": "stream",
     "text": [
      "Fitting 5 folds for each of 18 candidates, totalling 90 fits\n",
      "Best Parameters for XGBoost: {'objective': 'binary:logistic', 'enable_categorical': False, 'eval_metric': 'logloss', 'learning_rate': 0.01, 'max_depth': 5, 'missing': nan, 'n_estimators': 100, 'random_state': 42}\n",
      "\n",
      "=== XGBoost Performance ===\n",
      "Train Accuracy: 0.9692\n",
      "Validation Accuracy: 0.9614\n",
      "Test Accuracy: 0.9758\n",
      "\n",
      "Classification Report:\n",
      "               precision    recall  f1-score   support\n",
      "\n",
      "           0       0.97      1.00      0.99       195\n",
      "           1       1.00      0.58      0.74        12\n",
      "\n",
      "    accuracy                           0.98       207\n",
      "   macro avg       0.99      0.79      0.86       207\n",
      "weighted avg       0.98      0.98      0.97       207\n",
      "\n"
     ]
    },
    {
     "data": {
      "image/png": "[encoded data removed]",
      "text/plain": [
       "<Figure size 600x500 with 2 Axes>"
      ]
     },
     "metadata": {},
     "output_type": "display_data"
    }
   ],
   "source": [
    "# XG Boost\n",
    "xgb_params = {\n",
    "    'n_estimators': [50, 100],\n",
    "    'max_depth': [3, 5, 7],\n",
    "    'learning_rate': [0.01, 0.1, 0.3],\n",
    "}\n",
    "trainer.train_model(\"XGBoost\", xgb.XGBClassifier(random_state=42, eval_metric=\"logloss\"), param_grid=xgb_params)"
   ]
  },
  {
   "cell_type": "code",
   "execution_count": null,
   "metadata": {},
   "outputs": [],
   "source": [
    "# Logistic Regression\n",
    "trainer.train_model(\"Logistic Regression\", LogisticRegression(penalty='l2', random_state=42))"
   ]
  },
  {
   "cell_type": "code",
   "execution_count": null,
   "metadata": {},
   "outputs": [],
   "source": [
    "# Simple Vector Machine\n",
    "trainer.train_model(\"SVM\", SVC(random_state=42))"
   ]
  }
 ],
 "metadata": {
  "kernelspec": {
   "display_name": "Python 3",
   "language": "python",
   "name": "python3"
  },
  "language_info": {
   "codemirror_mode": {
    "name": "ipython",
    "version": 3
   },
   "file_extension": ".py",
   "mimetype": "text/x-python",
   "name": "python",
   "nbconvert_exporter": "python",
   "pygments_lexer": "ipython3",
   "version": "3.11.9"
  }
 },
 "nbformat": 4,
 "nbformat_minor": 2
}
