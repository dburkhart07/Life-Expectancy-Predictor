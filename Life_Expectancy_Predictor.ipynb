{
  "cells": [
    {
      "cell_type": "markdown",
      "metadata": {
        "id": "BIDBRhlyhfyN"
      },
      "source": [
        "Data Cleaning"
      ]
    },
    {
      "cell_type": "code",
      "execution_count": null,
      "metadata": {
        "id": "LqHYb-0za58X"
      },
      "outputs": [],
      "source": [
        "import pandas as pd\n",
        "import numpy as np\n",
        "import matplotlib.pyplot as plt\n",
        "\n",
        "from sklearn.linear_model import LogisticRegression\n",
        "from sklearn.svm import SVC\n",
        "from sklearn.model_selection import train_test_split, cross_val_score, GridSearchCV, RandomizedSearchCV, StratifiedKFold\n",
        "from sklearn.preprocessing import OneHotEncoder, StandardScaler\n",
        "from sklearn.ensemble import RandomForestClassifier\n",
        "from sklearn.metrics import classification_report, confusion_matrix, ConfusionMatrixDisplay, accuracy_score, roc_auc_score\n",
        "\n",
        "import tensorflow as tf\n",
        "from tensorflow.keras.models import Sequential\n",
        "from tensorflow.keras.layers import Dense, Dropout, BatchNormalization\n",
        "from tensorflow.keras.optimizers import Adam\n",
        "from tensorflow.keras.losses import BinaryCrossentropy\n",
        "from tensorflow.keras.callbacks import EarlyStopping, ReduceLROnPlateau\n",
        "import keras_tuner as kt\n",
        "\n",
        "import xgboost as xgb\n",
        "\n",
        "from scipy.stats import randint"
      ]
    },
    {
      "cell_type": "markdown",
      "metadata": {},
      "source": [
        "<h1>Data Preprocessing and Scaling</h1>"
      ]
    },
    {
      "cell_type": "code",
      "execution_count": 50,
      "metadata": {
        "id": "NzAKRBfNbIjm"
      },
      "outputs": [],
      "source": [
        "# Load dataset\n",
        "dataset = pd.read_csv('Survival_Data.csv')"
      ]
    },
    {
      "cell_type": "code",
      "execution_count": 51,
      "metadata": {
        "id": "QuOrhqbePbiB"
      },
      "outputs": [],
      "source": [
        "#Drop undesired features\n",
        "dataset = dataset.drop(['studyid', 'site', 'strength_comfort_religion', 'petition_prayer_health', 'intercessory_prayers_health'], axis = 1)"
      ]
    },
    {
      "cell_type": "code",
      "execution_count": 52,
      "metadata": {
        "id": "Zo_-0mFKbLH8"
      },
      "outputs": [],
      "source": [
        "# Separate the dataset into numerical and categorical features\n",
        "numerical_features = dataset.select_dtypes(include=['int64', 'float64']).columns.tolist()\n",
        "categorical_features = dataset.select_dtypes(exclude=['int64', 'float64']).columns.tolist()"
      ]
    },
    {
      "cell_type": "code",
      "execution_count": 53,
      "metadata": {
        "id": "o2f3TN3GbOdi"
      },
      "outputs": [],
      "source": [
        "# Use median imputation on the numerical features for missing values\n",
        "dataset[numerical_features] = dataset[numerical_features].fillna(dataset[numerical_features].median())\n",
        "\n",
        "# Use mode imputation on the categorical features for missing values\n",
        "for col in categorical_features:\n",
        "    dataset[col] = dataset[col].fillna(dataset[col].mode().iloc[0])"
      ]
    },
    {
      "cell_type": "code",
      "execution_count": 54,
      "metadata": {},
      "outputs": [],
      "source": [
        "# Convert binary categorical variables ('Yes'/'No') into 1/0\n",
        "binary_columns = [col for col in categorical_features if dataset[col].nunique() == 2]\n",
        "for col in binary_columns:\n",
        "    unique_values = dataset[col].unique()\n",
        "    if set(unique_values) == {'Yes', 'No'}:\n",
        "        dataset[col] = dataset[col].replace({'Yes': 1, 'No': 0})\n",
        "    elif set(unique_values) == {'Not impaired', 'Impaired'}:\n",
        "        dataset[col] = dataset[col].replace({'Impaired': 1, 'Not impaired': 0})\n",
        "    else:\n",
        "        mapping = {unique_values[0]: 1, unique_values[1]: 0}\n",
        "        dataset[col] = dataset[col].map(mapping)\n",
        "\n",
        "\n",
        "# Remaining categorical variables (multi-category)\n",
        "multi_category_columns = [col for col in categorical_features if col not in binary_columns]"
      ]
    },
    {
      "cell_type": "code",
      "execution_count": 55,
      "metadata": {
        "id": "P7W6YPL1bPfu"
      },
      "outputs": [],
      "source": [
        "# One-hot encode categorical variables\n",
        "encoder = OneHotEncoder(drop='first', sparse_output=False)\n",
        "encoded_categorical = encoder.fit_transform(dataset[multi_category_columns])\n",
        "encoded_categorical_df = pd.DataFrame(encoded_categorical, columns=encoder.get_feature_names_out(multi_category_columns))"
      ]
    },
    {
      "cell_type": "code",
      "execution_count": 56,
      "metadata": {},
      "outputs": [],
      "source": [
        "# Drop original categorical columns and merge encoded ones\n",
        "dataset = dataset.drop(multi_category_columns, axis=1)\n",
        "dataset = pd.concat([dataset, encoded_categorical_df], axis=1)\n",
        "\n",
        "dataset = dataset.rename(columns={\n",
        "    'agecat_>=55-<65': 'agecat_55_to_65',\n",
        "    'agecat_>=65': 'agecat_65_plus'\n",
        "})"
      ]
    },
    {
      "cell_type": "code",
      "execution_count": 57,
      "metadata": {},
      "outputs": [],
      "source": [
        "# Separate features and target\n",
        "X = dataset.drop('died_2_year', axis=1)\n",
        "y = dataset['died_2_year']"
      ]
    },
    {
      "cell_type": "code",
      "execution_count": 58,
      "metadata": {},
      "outputs": [],
      "source": [
        "# Scale numerical features\n",
        "scaler = StandardScaler()\n",
        "X[numerical_features] = scaler.fit_transform(X[numerical_features])"
      ]
    },
    {
      "cell_type": "code",
      "execution_count": 11,
      "metadata": {},
      "outputs": [],
      "source": [
        "# Split into Train (80%), Validation (10%), and Test (10%)\n",
        "X_train, X_rest, y_train, y_rest = train_test_split(X, y, test_size=0.2, random_state=42)\n",
        "X_val, X_test, y_val, y_test = train_test_split(X_rest, y_rest, test_size=0.5, random_state=42)"
      ]
    },
    {
      "cell_type": "markdown",
      "metadata": {
        "id": "NtCD33FkGRyh"
      },
      "source": [
        "<h3>Model: RandomForest Classifier</h3>"
      ]
    },
    {
      "cell_type": "code",
      "execution_count": 12,
      "metadata": {
        "id": "feMxjB8GnKGS"
      },
      "outputs": [
        {
          "name": "stdout",
          "output_type": "stream",
          "text": [
            "Best Parameters: {'max_depth': 5, 'min_samples_leaf': 8, 'min_samples_split': 17, 'n_estimators': 64}\n",
            "Train Score: 0.9419591687265403\n",
            "Validation Score: 0.9710144927536232\n",
            "Test Score: 0.9420289855072463\n"
          ]
        }
      ],
      "source": [
        "param_dist = {\n",
        "    'n_estimators': randint(50, 100),\n",
        "    'max_depth': randint(3, 7),\n",
        "    'min_samples_leaf': randint(5, 20),\n",
        "    'min_samples_split': randint(5, 20),\n",
        "}\n",
        "\n",
        "random_search = RandomizedSearchCV(\n",
        "    estimator=RandomForestClassifier(random_state=42),\n",
        "    param_distributions=param_dist,\n",
        "    n_iter=20,\n",
        "    cv=5,\n",
        "    random_state=42,\n",
        "    scoring='accuracy',\n",
        "    n_jobs=-1\n",
        ")\n",
        "\n",
        "# Fit model\n",
        "random_search.fit(X_train, y_train)\n",
        "\n",
        "# Get best model based on the params\n",
        "best_rfc = random_search.best_estimator_\n",
        "\n",
        "# Evaluate model\n",
        "train_score = np.mean(cross_val_score(best_rfc, X_train, y_train, cv=5))\n",
        "val_score = best_rfc.score(X_val, y_val)\n",
        "test_score = best_rfc.score(X_test, y_test)\n",
        "\n",
        "# Output results\n",
        "print(\"Best Parameters:\", random_search.best_params_)\n",
        "print(\"Train Score:\", train_score)\n",
        "print(\"Validation Score:\", val_score)\n",
        "print(\"Test Score:\", test_score)"
      ]
    },
    {
      "cell_type": "code",
      "execution_count": 13,
      "metadata": {
        "id": "-A_GkyoB2FNH"
      },
      "outputs": [
        {
          "name": "stdout",
          "output_type": "stream",
          "text": [
            "Classification Report:\n",
            "               precision    recall  f1-score   support\n",
            "\n",
            "           0       0.94      1.00      0.97       194\n",
            "           1       1.00      0.08      0.14        13\n",
            "\n",
            "    accuracy                           0.94       207\n",
            "   macro avg       0.97      0.54      0.56       207\n",
            "weighted avg       0.95      0.94      0.92       207\n",
            "\n"
          ]
        }
      ],
      "source": [
        "y_pred = best_rfc.predict(X_test)\n",
        "report = classification_report(y_test, y_pred)\n",
        "print(\"Classification Report:\\n\", report)"
      ]
    },
    {
      "cell_type": "markdown",
      "metadata": {
        "id": "B2ikSCrm3XjY"
      },
      "source": [
        "<h3>Model: Neural Network</h3>"
      ]
    },
    {
      "cell_type": "code",
      "execution_count": 19,
      "metadata": {},
      "outputs": [],
      "source": [
        "X_train, X_rest, y_train, y_rest = train_test_split(X, y, test_size=0.2, random_state=42)\n",
        "X_val, X_test, y_val, y_test = train_test_split(X_rest, y_rest, test_size=0.5, random_state=42)"
      ]
    },
    {
      "cell_type": "code",
      "execution_count": 20,
      "metadata": {},
      "outputs": [],
      "source": [
        "# Build Complex Neural Network Model\n",
        "def build_model():\n",
        "    model = Sequential()\n",
        "    \n",
        "    # Input Layer\n",
        "    model.add(Dense(512, input_shape=(X_train.shape[1],), activation='relu'))\n",
        "    model.add(BatchNormalization())\n",
        "    model.add(Dropout(0.3))\n",
        "    \n",
        "    # Hidden Layers\n",
        "    model.add(Dense(256, activation='relu'))\n",
        "    model.add(BatchNormalization())\n",
        "    model.add(Dropout(0.3))\n",
        "    \n",
        "    model.add(Dense(128, activation='relu'))\n",
        "    model.add(BatchNormalization())\n",
        "    model.add(Dropout(0.3))\n",
        "    \n",
        "    model.add(Dense(64, activation='relu'))\n",
        "    model.add(BatchNormalization())\n",
        "    model.add(Dropout(0.3))\n",
        "    \n",
        "    # Output Layer\n",
        "    model.add(Dense(1, activation='sigmoid'))\n",
        "    \n",
        "    # Compile Model\n",
        "    optimizer = Adam(learning_rate=0.001)\n",
        "    model.compile(optimizer=optimizer, loss='binary_crossentropy', metrics=['accuracy'])\n",
        "    \n",
        "    return model"
      ]
    },
    {
      "cell_type": "code",
      "execution_count": null,
      "metadata": {},
      "outputs": [],
      "source": [
        "# Instantiate Model\n",
        "model = build_model()"
      ]
    },
    {
      "cell_type": "code",
      "execution_count": null,
      "metadata": {},
      "outputs": [],
      "source": [
        "history = model.fit(\n",
        "    X_train, y_train, \n",
        "    epochs=100, \n",
        "    batch_size=32,\n",
        "    validation_data=(X_val, y_val),\n",
        "    callbacks=[\n",
        "        EarlyStopping(monitor='val_loss', patience=10, restore_best_weights=True),\n",
        "        ReduceLROnPlateau(monitor='val_loss', factor=0.5, patience=5, verbose=1)\n",
        "    ],\n",
        "    verbose=1\n",
        ")"
      ]
    },
    {
      "cell_type": "code",
      "execution_count": 23,
      "metadata": {},
      "outputs": [
        {
          "name": "stdout",
          "output_type": "stream",
          "text": [
            "\u001b[1m7/7\u001b[0m \u001b[32m━━━━━━━━━━━━━━━━━━━━\u001b[0m\u001b[37m\u001b[0m \u001b[1m0s\u001b[0m 4ms/step - accuracy: 0.9617 - loss: 0.1469 \n",
            "Test Accuracy: 0.9565\n"
          ]
        }
      ],
      "source": [
        "# Evaluate Model\n",
        "test_loss, test_acc = model.evaluate(X_test, y_test)\n",
        "print(f\"Test Accuracy: {test_acc:.4f}\")"
      ]
    },
    {
      "cell_type": "code",
      "execution_count": 24,
      "metadata": {},
      "outputs": [
        {
          "data": {
            "image/png": "[encoded data removed]",
            "text/plain": [
              "<Figure size 1200x500 with 2 Axes>"
            ]
          },
          "metadata": {},
          "output_type": "display_data"
        }
      ],
      "source": [
        "# Plot Loss Curve\n",
        "plt.figure(figsize=(12, 5))\n",
        "plt.subplot(1, 2, 1)\n",
        "plt.plot(history.history['loss'], label='Train Loss')\n",
        "plt.plot(history.history['val_loss'], label='Validation Loss')\n",
        "plt.xlabel('Epochs')\n",
        "plt.ylabel('Loss')\n",
        "plt.title('Training vs Validation Loss')\n",
        "plt.legend()\n",
        "\n",
        "# Plot Accuracy Curve\n",
        "plt.subplot(1, 2, 2)\n",
        "plt.plot(history.history['accuracy'], label='Train Accuracy')\n",
        "plt.plot(history.history['val_accuracy'], label='Validation Accuracy')\n",
        "plt.xlabel('Epochs')\n",
        "plt.ylabel('Accuracy')\n",
        "plt.title('Training vs Validation Accuracy')\n",
        "plt.legend()\n",
        "\n",
        "plt.show()"
      ]
    },
    {
      "cell_type": "code",
      "execution_count": 25,
      "metadata": {},
      "outputs": [
        {
          "name": "stdout",
          "output_type": "stream",
          "text": [
            "\u001b[1m7/7\u001b[0m \u001b[32m━━━━━━━━━━━━━━━━━━━━\u001b[0m\u001b[37m\u001b[0m \u001b[1m0s\u001b[0m 13ms/step\n"
          ]
        },
        {
          "data": {
            "image/png": "[encoded data removed]",
            "text/plain": [
              "<Figure size 640x480 with 2 Axes>"
            ]
          },
          "metadata": {},
          "output_type": "display_data"
        }
      ],
      "source": [
        "# Predict on test set\n",
        "y_pred = (model.predict(X_test) > 0.5).astype(int)\n",
        "\n",
        "# Compute confusion matrix\n",
        "cm = confusion_matrix(y_test, y_pred)\n",
        "disp = ConfusionMatrixDisplay(confusion_matrix=cm)\n",
        "disp.plot(cmap='Blues')\n",
        "plt.title('Confusion Matrix')\n",
        "plt.show()"
      ]
    },
    {
      "cell_type": "markdown",
      "metadata": {
        "id": "rnzav3DjNvXc"
      },
      "source": [
        "<h3>Model: Gradient Boosting Machine</h3>"
      ]
    },
    {
      "cell_type": "code",
      "execution_count": 64,
      "metadata": {},
      "outputs": [],
      "source": [
        "X_train, X_rest, y_train, y_rest = train_test_split(X, y, test_size=0.2, stratify=y, random_state=42)\n",
        "X_val, X_test, y_val, y_test = train_test_split(X_rest, y_rest, test_size=0.5, stratify=y_rest, random_state=42)"
      ]
    },
    {
      "cell_type": "code",
      "execution_count": 70,
      "metadata": {},
      "outputs": [],
      "source": [
        "base_model = xgb.XGBClassifier(random_state=42, eval_metric=\"logloss\", use_label_encoder=False)"
      ]
    },
    {
      "cell_type": "code",
      "execution_count": 71,
      "metadata": {},
      "outputs": [
        {
          "name": "stdout",
          "output_type": "stream",
          "text": [
            "Fitting 5 folds for each of 648 candidates, totalling 3240 fits\n",
            "Best Parameters: {'colsample_bytree': 0.8, 'learning_rate': 0.1, 'max_depth': 3, 'n_estimators': 100, 'reg_alpha': 0.1, 'reg_lambda': 0.5, 'subsample': 1.0}\n",
            "Best Cross-Validation Accuracy: 0.9709859928591046\n"
          ]
        },
        {
          "name": "stderr",
          "output_type": "stream",
          "text": [
            "C:\\Users\\Dalton\\AppData\\Local\\Packages\\PythonSoftwareFoundation.Python.3.11_qbz5n2kfra8p0\\LocalCache\\local-packages\\Python311\\site-packages\\xgboost\\core.py:158: UserWarning: [18:45:20] WARNING: C:\\buildkite-agent\\builds\\buildkite-windows-cpu-autoscaling-group-i-08cbc0333d8d4aae1-1\\xgboost\\xgboost-ci-windows\\src\\learner.cc:740: \n",
            "Parameters: { \"use_label_encoder\" } are not used.\n",
            "\n",
            "  warnings.warn(smsg, UserWarning)\n"
          ]
        }
      ],
      "source": [
        "# Define Parameter Grid\n",
        "param_grid = {\n",
        "    'n_estimators': [50, 100],  \n",
        "    'max_depth': [3, 5, 7],            \n",
        "    'learning_rate': [0.01, 0.1, 0.3], \n",
        "    'subsample': [0.6, 0.8, 1.0],      \n",
        "    'colsample_bytree': [0.6, 0.8, 1.0],\n",
        "    'reg_alpha': [0.1, 0.5],    \n",
        "    'reg_lambda': [0.1, 0.5]    \n",
        "}\n",
        "\n",
        "# Grid Search with StratifiedKFold (5 Folds)\n",
        "grid_search = GridSearchCV(\n",
        "    base_model, param_grid,\n",
        "    cv=StratifiedKFold(n_splits=5, shuffle=True, random_state=42),\n",
        "    scoring='accuracy', n_jobs=-1, verbose=2\n",
        ")\n",
        "\n",
        "# Perform Grid Search\n",
        "grid_search.fit(X_train, y_train)\n",
        "\n",
        "# Print Best Parameters & Score\n",
        "print(\"Best Parameters:\", grid_search.best_params_)\n",
        "print(\"Best Cross-Validation Accuracy:\", grid_search.best_score_)"
      ]
    },
    {
      "cell_type": "code",
      "execution_count": 74,
      "metadata": {},
      "outputs": [
        {
          "name": "stdout",
          "output_type": "stream",
          "text": [
            "[0]\ttrain-logloss:0.23708\tval-logloss:0.24720\n",
            "[1]\ttrain-logloss:0.21878\tval-logloss:0.23156\n",
            "[2]\ttrain-logloss:0.20894\tval-logloss:0.22513\n",
            "[3]\ttrain-logloss:0.19582\tval-logloss:0.21448\n",
            "[4]\ttrain-logloss:0.18447\tval-logloss:0.20426\n",
            "[5]\ttrain-logloss:0.17789\tval-logloss:0.19965\n",
            "[6]\ttrain-logloss:0.16909\tval-logloss:0.19114\n",
            "[7]\ttrain-logloss:0.16121\tval-logloss:0.18461\n",
            "[8]\ttrain-logloss:0.15384\tval-logloss:0.17810\n",
            "[9]\ttrain-logloss:0.14744\tval-logloss:0.17260\n",
            "[10]\ttrain-logloss:0.14173\tval-logloss:0.16822\n",
            "[11]\ttrain-logloss:0.13677\tval-logloss:0.16364\n",
            "[12]\ttrain-logloss:0.13240\tval-logloss:0.16025\n",
            "[13]\ttrain-logloss:0.12808\tval-logloss:0.15670\n",
            "[14]\ttrain-logloss:0.12543\tval-logloss:0.15478\n",
            "[15]\ttrain-logloss:0.12176\tval-logloss:0.15224\n",
            "[16]\ttrain-logloss:0.11853\tval-logloss:0.14963\n",
            "[17]\ttrain-logloss:0.11567\tval-logloss:0.14880\n",
            "[18]\ttrain-logloss:0.11305\tval-logloss:0.14838\n",
            "[19]\ttrain-logloss:0.11073\tval-logloss:0.14634\n",
            "[20]\ttrain-logloss:0.10873\tval-logloss:0.14482\n",
            "[21]\ttrain-logloss:0.10696\tval-logloss:0.14437\n",
            "[22]\ttrain-logloss:0.10452\tval-logloss:0.14365\n",
            "[23]\ttrain-logloss:0.10276\tval-logloss:0.14134\n",
            "[24]\ttrain-logloss:0.10106\tval-logloss:0.13873\n",
            "[25]\ttrain-logloss:0.09922\tval-logloss:0.13780\n",
            "[26]\ttrain-logloss:0.09778\tval-logloss:0.13620\n",
            "[27]\ttrain-logloss:0.09579\tval-logloss:0.13756\n",
            "[28]\ttrain-logloss:0.09423\tval-logloss:0.13729\n",
            "[29]\ttrain-logloss:0.09295\tval-logloss:0.13579\n",
            "[30]\ttrain-logloss:0.09098\tval-logloss:0.13613\n",
            "[31]\ttrain-logloss:0.08975\tval-logloss:0.13594\n",
            "[32]\ttrain-logloss:0.08864\tval-logloss:0.13455\n",
            "[33]\ttrain-logloss:0.08728\tval-logloss:0.13524\n",
            "[34]\ttrain-logloss:0.08586\tval-logloss:0.13603\n",
            "[35]\ttrain-logloss:0.08470\tval-logloss:0.13580\n",
            "[36]\ttrain-logloss:0.08383\tval-logloss:0.13535\n",
            "[37]\ttrain-logloss:0.08258\tval-logloss:0.13635\n",
            "[38]\ttrain-logloss:0.08179\tval-logloss:0.13606\n",
            "[39]\ttrain-logloss:0.08090\tval-logloss:0.13613\n",
            "[40]\ttrain-logloss:0.07999\tval-logloss:0.13498\n",
            "[41]\ttrain-logloss:0.07834\tval-logloss:0.13584\n",
            "Test Accuracy: 0.9758\n"
          ]
        },
        {
          "name": "stderr",
          "output_type": "stream",
          "text": [
            "C:\\Users\\Dalton\\AppData\\Local\\Packages\\PythonSoftwareFoundation.Python.3.11_qbz5n2kfra8p0\\LocalCache\\local-packages\\Python311\\site-packages\\xgboost\\core.py:158: UserWarning: [18:48:53] WARNING: C:\\buildkite-agent\\builds\\buildkite-windows-cpu-autoscaling-group-i-08cbc0333d8d4aae1-1\\xgboost\\xgboost-ci-windows\\src\\learner.cc:740: \n",
            "Parameters: { \"n_estimators\" } are not used.\n",
            "\n",
            "  warnings.warn(smsg, UserWarning)\n"
          ]
        }
      ],
      "source": [
        "# Convert Data to DMatrix\n",
        "dtrain = xgb.DMatrix(X_train, label=y_train)\n",
        "dval = xgb.DMatrix(X_val, label=y_val)\n",
        "dtest = xgb.DMatrix(X_test, label=y_test)\n",
        "\n",
        "# Train Best Model with Early Stopping\n",
        "params = grid_search.best_params_\n",
        "params.update({'objective': 'binary:logistic', 'eval_metric': 'logloss', 'random_state': 42})\n",
        "\n",
        "evals = [(dtrain, 'train'), (dval, 'val')]\n",
        "best_xgb = xgb.train(\n",
        "    params, dtrain,\n",
        "    num_boost_round=1000,  # Large number, but early stopping will stop it earlier\n",
        "    evals=evals,\n",
        "    early_stopping_rounds=10,  # Stop if no improvement after 10 rounds\n",
        "    verbose_eval=True\n",
        ")\n",
        "\n",
        "# Make Predictions\n",
        "y_pred = (best_xgb.predict(dtest) > 0.5).astype(int)  # Convert probabilities to 0/1\n",
        "y_pred_proba = best_xgb.predict(dtest)\n",
        "\n",
        "# Evaluate\n",
        "test_acc = accuracy_score(y_test, y_pred)\n",
        "print(f\"Test Accuracy: {test_acc:.4f}\")"
      ]
    },
    {
      "cell_type": "markdown",
      "metadata": {
        "id": "T_rzBhwXT_82"
      },
      "source": [
        "<h3>Model: Logistic Regression</h3>"
      ]
    },
    {
      "cell_type": "code",
      "execution_count": 84,
      "metadata": {},
      "outputs": [],
      "source": [
        "X_train, X_rest, y_train, y_rest = train_test_split(X, y, test_size=0.2, stratify=y, random_state=42)\n",
        "X_val, X_test, y_val, y_test = train_test_split(X_rest, y_rest, test_size=0.5, stratify=y_rest, random_state=42)"
      ]
    },
    {
      "cell_type": "code",
      "execution_count": 86,
      "metadata": {
        "colab": {
          "base_uri": "https://localhost:8080/"
        },
        "id": "AMXqYfjkUCNd",
        "outputId": "e95e8773-76bf-472d-8e30-53c7422a6b6b"
      },
      "outputs": [
        {
          "name": "stdout",
          "output_type": "stream",
          "text": [
            "Fitting 5 folds for each of 30 candidates, totalling 150 fits\n",
            "Best Parameters: {'C': 0.1, 'max_iter': 100, 'solver': 'lbfgs'}\n",
            "Best Cross-Validation Accuracy: 0.9564698342946076\n"
          ]
        }
      ],
      "source": [
        "param_grid = {\n",
        "    'C': [0.1, 1, 3, 5, 10],         # Regularization Strength\n",
        "    'solver': ['liblinear', 'lbfgs'],  # Solver choice\n",
        "    'max_iter': [100, 200, 500]        # Iteration limits\n",
        "}\n",
        "\n",
        "# Initialize Base Model\n",
        "base_model = LogisticRegression(penalty='l2', random_state=42)\n",
        "\n",
        "# Grid Search with Stratified 5-Fold Cross Validation\n",
        "grid_search = GridSearchCV(\n",
        "    base_model, param_grid,\n",
        "    cv=StratifiedKFold(n_splits=5, shuffle=True, random_state=42),\n",
        "    scoring='accuracy', n_jobs=-1, verbose=2\n",
        ")\n",
        "grid_search.fit(X_train, y_train)\n",
        "\n",
        "# Print Best Parameters & Score\n",
        "print(\"Best Parameters:\", grid_search.best_params_)\n",
        "print(\"Best Cross-Validation Accuracy:\", grid_search.best_score_)"
      ]
    },
    {
      "cell_type": "code",
      "execution_count": 87,
      "metadata": {},
      "outputs": [
        {
          "name": "stdout",
          "output_type": "stream",
          "text": [
            "Validation Accuracy: 0.9614\n",
            "Test Accuracy: 0.9710\n",
            "\n",
            "Classification Report:\n",
            "               precision    recall  f1-score   support\n",
            "\n",
            "           0       0.97      1.00      0.98       195\n",
            "           1       1.00      0.50      0.67        12\n",
            "\n",
            "    accuracy                           0.97       207\n",
            "   macro avg       0.99      0.75      0.83       207\n",
            "weighted avg       0.97      0.97      0.97       207\n",
            "\n"
          ]
        }
      ],
      "source": [
        "# Train Best Model on Full Training Data\n",
        "best_lr = grid_search.best_estimator_\n",
        "best_lr.fit(X_train, y_train)\n",
        "\n",
        "# Evaluate on Validation Set\n",
        "val_pred = best_lr.predict(X_val)\n",
        "val_acc = accuracy_score(y_val, val_pred)\n",
        "print(f\"Validation Accuracy: {val_acc:.4f}\")\n",
        "\n",
        "# Evaluate on Test Set\n",
        "test_pred = best_lr.predict(X_test)\n",
        "test_acc = accuracy_score(y_test, test_pred)\n",
        "print(f\"Test Accuracy: {test_acc:.4f}\")\n",
        "\n",
        "# Detailed Classification Report\n",
        "print(\"\\nClassification Report:\\n\", classification_report(y_test, test_pred))"
      ]
    },
    {
      "cell_type": "markdown",
      "metadata": {
        "id": "fubGjTxkX5_p"
      },
      "source": [
        "<h3>Model: Support Vector Machine</h3>"
      ]
    },
    {
      "cell_type": "code",
      "execution_count": 92,
      "metadata": {},
      "outputs": [],
      "source": [
        "X_train, X_rest, y_train, y_rest = train_test_split(X, y, test_size=0.2, stratify=y, random_state=42)\n",
        "X_val, X_test, y_val, y_test = train_test_split(X_rest, y_rest, test_size=0.5, stratify=y_rest, random_state=42)"
      ]
    },
    {
      "cell_type": "code",
      "execution_count": 93,
      "metadata": {},
      "outputs": [
        {
          "name": "stdout",
          "output_type": "stream",
          "text": [
            "Fitting 5 folds for each of 24 candidates, totalling 120 fits\n"
          ]
        },
        {
          "data": {
            "text/html": [
              "<style>#sk-container-id-3 {color: black;}#sk-container-id-3 pre{padding: 0;}#sk-container-id-3 div.sk-toggleable {background-color: white;}#sk-container-id-3 label.sk-toggleable__label {cursor: pointer;display: block;width: 100%;margin-bottom: 0;padding: 0.3em;box-sizing: border-box;text-align: center;}#sk-container-id-3 label.sk-toggleable__label-arrow:before {content: \"▸\";float: left;margin-right: 0.25em;color: #696969;}#sk-container-id-3 label.sk-toggleable__label-arrow:hover:before {color: black;}#sk-container-id-3 div.sk-estimator:hover label.sk-toggleable__label-arrow:before {color: black;}#sk-container-id-3 div.sk-toggleable__content {max-height: 0;max-width: 0;overflow: hidden;text-align: left;background-color: #f0f8ff;}#sk-container-id-3 div.sk-toggleable__content pre {margin: 0.2em;color: black;border-radius: 0.25em;background-color: #f0f8ff;}#sk-container-id-3 input.sk-toggleable__control:checked~div.sk-toggleable__content {max-height: 200px;max-width: 100%;overflow: auto;}#sk-container-id-3 input.sk-toggleable__control:checked~label.sk-toggleable__label-arrow:before {content: \"▾\";}#sk-container-id-3 div.sk-estimator input.sk-toggleable__control:checked~label.sk-toggleable__label {background-color: #d4ebff;}#sk-container-id-3 div.sk-label input.sk-toggleable__control:checked~label.sk-toggleable__label {background-color: #d4ebff;}#sk-container-id-3 input.sk-hidden--visually {border: 0;clip: rect(1px 1px 1px 1px);clip: rect(1px, 1px, 1px, 1px);height: 1px;margin: -1px;overflow: hidden;padding: 0;position: absolute;width: 1px;}#sk-container-id-3 div.sk-estimator {font-family: monospace;background-color: #f0f8ff;border: 1px dotted black;border-radius: 0.25em;box-sizing: border-box;margin-bottom: 0.5em;}#sk-container-id-3 div.sk-estimator:hover {background-color: #d4ebff;}#sk-container-id-3 div.sk-parallel-item::after {content: \"\";width: 100%;border-bottom: 1px solid gray;flex-grow: 1;}#sk-container-id-3 div.sk-label:hover label.sk-toggleable__label {background-color: #d4ebff;}#sk-container-id-3 div.sk-serial::before {content: \"\";position: absolute;border-left: 1px solid gray;box-sizing: border-box;top: 0;bottom: 0;left: 50%;z-index: 0;}#sk-container-id-3 div.sk-serial {display: flex;flex-direction: column;align-items: center;background-color: white;padding-right: 0.2em;padding-left: 0.2em;position: relative;}#sk-container-id-3 div.sk-item {position: relative;z-index: 1;}#sk-container-id-3 div.sk-parallel {display: flex;align-items: stretch;justify-content: center;background-color: white;position: relative;}#sk-container-id-3 div.sk-item::before, #sk-container-id-3 div.sk-parallel-item::before {content: \"\";position: absolute;border-left: 1px solid gray;box-sizing: border-box;top: 0;bottom: 0;left: 50%;z-index: -1;}#sk-container-id-3 div.sk-parallel-item {display: flex;flex-direction: column;z-index: 1;position: relative;background-color: white;}#sk-container-id-3 div.sk-parallel-item:first-child::after {align-self: flex-end;width: 50%;}#sk-container-id-3 div.sk-parallel-item:last-child::after {align-self: flex-start;width: 50%;}#sk-container-id-3 div.sk-parallel-item:only-child::after {width: 0;}#sk-container-id-3 div.sk-dashed-wrapped {border: 1px dashed gray;margin: 0 0.4em 0.5em 0.4em;box-sizing: border-box;padding-bottom: 0.4em;background-color: white;}#sk-container-id-3 div.sk-label label {font-family: monospace;font-weight: bold;display: inline-block;line-height: 1.2em;}#sk-container-id-3 div.sk-label-container {text-align: center;}#sk-container-id-3 div.sk-container {/* jupyter's `normalize.less` sets `[hidden] { display: none; }` but bootstrap.min.css set `[hidden] { display: none !important; }` so we also need the `!important` here to be able to override the default hidden behavior on the sphinx rendered scikit-learn.org. See: https://github.com/scikit-learn/scikit-learn/issues/21755 */display: inline-block !important;position: relative;}#sk-container-id-3 div.sk-text-repr-fallback {display: none;}</style><div id=\"sk-container-id-3\" class=\"sk-top-container\"><div class=\"sk-text-repr-fallback\"><pre>GridSearchCV(cv=StratifiedKFold(n_splits=5, random_state=None, shuffle=False),\n",
              "             estimator=SVC(random_state=42), n_jobs=-1,\n",
              "             param_grid={&#x27;C&#x27;: [0.1, 1, 10], &#x27;gamma&#x27;: [&#x27;scale&#x27;, &#x27;auto&#x27;],\n",
              "                         &#x27;kernel&#x27;: [&#x27;linear&#x27;, &#x27;rbf&#x27;, &#x27;poly&#x27;, &#x27;sigmoid&#x27;]},\n",
              "             scoring=&#x27;accuracy&#x27;, verbose=1)</pre><b>In a Jupyter environment, please rerun this cell to show the HTML representation or trust the notebook. <br />On GitHub, the HTML representation is unable to render, please try loading this page with nbviewer.org.</b></div><div class=\"sk-container\" hidden><div class=\"sk-item sk-dashed-wrapped\"><div class=\"sk-label-container\"><div class=\"sk-label sk-toggleable\"><input class=\"sk-toggleable__control sk-hidden--visually\" id=\"sk-estimator-id-7\" type=\"checkbox\" ><label for=\"sk-estimator-id-7\" class=\"sk-toggleable__label sk-toggleable__label-arrow\">GridSearchCV</label><div class=\"sk-toggleable__content\"><pre>GridSearchCV(cv=StratifiedKFold(n_splits=5, random_state=None, shuffle=False),\n",
              "             estimator=SVC(random_state=42), n_jobs=-1,\n",
              "             param_grid={&#x27;C&#x27;: [0.1, 1, 10], &#x27;gamma&#x27;: [&#x27;scale&#x27;, &#x27;auto&#x27;],\n",
              "                         &#x27;kernel&#x27;: [&#x27;linear&#x27;, &#x27;rbf&#x27;, &#x27;poly&#x27;, &#x27;sigmoid&#x27;]},\n",
              "             scoring=&#x27;accuracy&#x27;, verbose=1)</pre></div></div></div><div class=\"sk-parallel\"><div class=\"sk-parallel-item\"><div class=\"sk-item\"><div class=\"sk-label-container\"><div class=\"sk-label sk-toggleable\"><input class=\"sk-toggleable__control sk-hidden--visually\" id=\"sk-estimator-id-8\" type=\"checkbox\" ><label for=\"sk-estimator-id-8\" class=\"sk-toggleable__label sk-toggleable__label-arrow\">estimator: SVC</label><div class=\"sk-toggleable__content\"><pre>SVC(random_state=42)</pre></div></div></div><div class=\"sk-serial\"><div class=\"sk-item\"><div class=\"sk-estimator sk-toggleable\"><input class=\"sk-toggleable__control sk-hidden--visually\" id=\"sk-estimator-id-9\" type=\"checkbox\" ><label for=\"sk-estimator-id-9\" class=\"sk-toggleable__label sk-toggleable__label-arrow\">SVC</label><div class=\"sk-toggleable__content\"><pre>SVC(random_state=42)</pre></div></div></div></div></div></div></div></div></div></div>"
            ],
            "text/plain": [
              "GridSearchCV(cv=StratifiedKFold(n_splits=5, random_state=None, shuffle=False),\n",
              "             estimator=SVC(random_state=42), n_jobs=-1,\n",
              "             param_grid={'C': [0.1, 1, 10], 'gamma': ['scale', 'auto'],\n",
              "                         'kernel': ['linear', 'rbf', 'poly', 'sigmoid']},\n",
              "             scoring='accuracy', verbose=1)"
            ]
          },
          "execution_count": 93,
          "metadata": {},
          "output_type": "execute_result"
        }
      ],
      "source": [
        "# Define SVC model\n",
        "svc = SVC(random_state=42)\n",
        "\n",
        "# Hyperparameter tuning using GridSearchCV\n",
        "param_grid = {\n",
        "    'C': [0.1, 1, 10], \n",
        "    'kernel': ['linear', 'rbf', 'poly', 'sigmoid'],\n",
        "    'gamma': ['scale', 'auto']\n",
        "}\n",
        "\n",
        "grid_search = GridSearchCV(svc, param_grid, cv=StratifiedKFold(n_splits=5), scoring='accuracy', verbose=1, n_jobs=-1)\n",
        "grid_search.fit(X_train, y_train)"
      ]
    },
    {
      "cell_type": "code",
      "execution_count": 94,
      "metadata": {},
      "outputs": [
        {
          "name": "stdout",
          "output_type": "stream",
          "text": [
            "Validation Accuracy: 0.94686\n",
            "Test Accuracy: 0.96618\n",
            "\n",
            "Classification Report:\n",
            "              precision    recall  f1-score   support\n",
            "\n",
            "           0       0.97      1.00      0.98       195\n",
            "           1       1.00      0.42      0.59        12\n",
            "\n",
            "    accuracy                           0.97       207\n",
            "   macro avg       0.98      0.71      0.79       207\n",
            "weighted avg       0.97      0.97      0.96       207\n",
            "\n"
          ]
        }
      ],
      "source": [
        "# Best model from Grid Search\n",
        "best_svc = grid_search.best_estimator_\n",
        "\n",
        "# Train Best Model on Training Data\n",
        "best_svc.fit(X_train, y_train)\n",
        "\n",
        "# Evaluate on Validation Set\n",
        "y_val_pred = best_svc.predict(X_val)\n",
        "val_accuracy = accuracy_score(y_val, y_val_pred)\n",
        "print(f\"Validation Accuracy: {val_accuracy:.5f}\")\n",
        "\n",
        "# Final Test Evaluation\n",
        "y_test_pred = best_svc.predict(X_test)\n",
        "test_accuracy = accuracy_score(y_test, y_test_pred)\n",
        "print(f\"Test Accuracy: {test_accuracy:.5f}\")\n",
        "\n",
        "# Classification Report\n",
        "print(\"\\nClassification Report:\")\n",
        "print(classification_report(y_test, y_test_pred))"
      ]
    }
  ],
  "metadata": {
    "colab": {
      "provenance": []
    },
    "kernelspec": {
      "display_name": "Python 3",
      "name": "python3"
    },
    "language_info": {
      "codemirror_mode": {
        "name": "ipython",
        "version": 3
      },
      "file_extension": ".py",
      "mimetype": "text/x-python",
      "name": "python",
      "nbconvert_exporter": "python",
      "pygments_lexer": "ipython3",
      "version": "3.11.9"
    }
  },
  "nbformat": 4,
  "nbformat_minor": 0
}
